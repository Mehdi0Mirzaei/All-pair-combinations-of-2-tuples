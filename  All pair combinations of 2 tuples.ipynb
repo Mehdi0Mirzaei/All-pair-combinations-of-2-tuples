{
 "cells": [
  {
   "cell_type": "code",
   "execution_count": 1,
   "id": "bb0f5d47",
   "metadata": {},
   "outputs": [
    {
     "name": "stdout",
     "output_type": "stream",
     "text": [
      "The original tuple 1 : (4, 5)\n",
      "The original tuple 2 : (7, 8)\n",
      "The filtered tuple : [(4, 7), (4, 8), (5, 7), (5, 8), (7, 4), (7, 5), (8, 4), (8, 5)]\n"
     ]
    }
   ],
   "source": [
    "# initializing tuples\n",
    "test_tuple1 = (4, 5)\n",
    "test_tuple2 = (7, 8)\n",
    " \n",
    "# printing original tuples\n",
    "print(\"The original tuple 1 : \" + str(test_tuple1))\n",
    "print(\"The original tuple 2 : \" + str(test_tuple2))\n",
    " \n",
    "# All pair combinations of 2 tuples\n",
    "# Using list comprehension\n",
    "res =  [(a, b) for a in test_tuple1 for b in test_tuple2]\n",
    "res = res +  [(a, b) for a in test_tuple2 for b in test_tuple1]\n",
    " \n",
    "# printing result \n",
    "print(\"The filtered tuple : \" + str(res))"
   ]
  },
  {
   "cell_type": "code",
   "execution_count": 2,
   "id": "5e169f9f",
   "metadata": {},
   "outputs": [
    {
     "name": "stdout",
     "output_type": "stream",
     "text": [
      "[(4, 7), (7, 4), (4, 8), (8, 4), (5, 7), (7, 5), (5, 8), (8, 5)]\n"
     ]
    }
   ],
   "source": [
    "tuple1 = (4, 5)\n",
    "tuple2 = (7, 8)\n",
    " \n",
    "# initialize an empty list to store the filtered tuples\n",
    "filtered_tuples = []\n",
    " \n",
    "# iterate over each element in tuple 1\n",
    "for element1 in tuple1:\n",
    "    # iterate over each element in tuple 2\n",
    "    for element2 in tuple2:\n",
    "        # append a tuple of the two elements to the filtered list\n",
    "        filtered_tuples.append((element1, element2))\n",
    "        # append a tuple of the two elements in reverse order to the filtered list\n",
    "        filtered_tuples.append((element2, element1))\n",
    " # output\n",
    "print(filtered_tuples)"
   ]
  },
  {
   "cell_type": "code",
   "execution_count": null,
   "id": "06ed911a",
   "metadata": {},
   "outputs": [],
   "source": []
  }
 ],
 "metadata": {
  "kernelspec": {
   "display_name": "Python 3 (ipykernel)",
   "language": "python",
   "name": "python3"
  },
  "language_info": {
   "codemirror_mode": {
    "name": "ipython",
    "version": 3
   },
   "file_extension": ".py",
   "mimetype": "text/x-python",
   "name": "python",
   "nbconvert_exporter": "python",
   "pygments_lexer": "ipython3",
   "version": "3.9.13"
  }
 },
 "nbformat": 4,
 "nbformat_minor": 5
}
